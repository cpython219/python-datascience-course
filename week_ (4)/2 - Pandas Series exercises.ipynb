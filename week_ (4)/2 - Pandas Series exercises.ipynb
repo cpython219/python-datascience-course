{
 "cells": [
  {
<<<<<<< HEAD
=======
   "attachments": {},
>>>>>>> 525d56702a5550e7e07345bed05263e073c0727f
   "cell_type": "markdown",
   "metadata": {},
   "source": [
    "![rmotr](https://user-images.githubusercontent.com/7065401/52071918-bda15380-2562-11e9-828c-7f95297e4a82.png)\n",
    "<hr style=\"margin-bottom: 40px;\">\n",
    "\n",
    "# Pandas Series exercises\n"
   ]
  },
  {
   "cell_type": "code",
   "execution_count": 1,
   "metadata": {},
   "outputs": [
    {
<<<<<<< HEAD
     "name": "stdout",
     "output_type": "stream",
     "text": [
      "1.5.3\n"
=======
     "name": "stderr",
     "output_type": "stream",
     "text": [
      "c:\\Users\\admin\\anaconda3\\envs\\chatbot\\lib\\site-packages\\numpy\\_distributor_init.py:30: UserWarning: loaded more than 1 DLL from .libs:\n",
      "c:\\Users\\admin\\anaconda3\\envs\\chatbot\\lib\\site-packages\\numpy\\.libs\\libopenblas.FB5AE2TYXYH2IJRDKGDGQ3XBKLKTF43H.gfortran-win_amd64.dll\n",
      "c:\\Users\\admin\\anaconda3\\envs\\chatbot\\lib\\site-packages\\numpy\\.libs\\libopenblas.PYQHXLVVQ7VESDPUVUADXEVJOBGHJPAY.gfortran-win_amd64.dll\n",
      "c:\\Users\\admin\\anaconda3\\envs\\chatbot\\lib\\site-packages\\numpy\\.libs\\libopenblas.WCDJNK7YVMPZQ2ME2ZZHJJRJ3JIKNDB7.gfortran-win_amd64.dll\n",
      "  warnings.warn(\"loaded more than 1 DLL from .libs:\"\n"
     ]
    },
    {
     "name": "stdout",
     "output_type": "stream",
     "text": [
      "1.3.4\n"
>>>>>>> 525d56702a5550e7e07345bed05263e073c0727f
     ]
    }
   ],
   "source": [
    "# Import the numpy package under the name np\n",
    "import numpy as np\n",
    "\n",
    "# Import the pandas package under the name pd\n",
    "import pandas as pd\n",
    "\n",
    "# Print the pandas version and the configuration\n",
    "print(pd.__version__)"
   ]
  },
  {
<<<<<<< HEAD
=======
   "attachments": {},
>>>>>>> 525d56702a5550e7e07345bed05263e073c0727f
   "cell_type": "markdown",
   "metadata": {},
   "source": [
    "![purple-divider](https://user-images.githubusercontent.com/7065401/52071927-c1cd7100-2562-11e9-908a-dde91ba14e59.png)\n",
    "\n",
    "## Series creation"
   ]
  },
  {
<<<<<<< HEAD
=======
   "attachments": {},
>>>>>>> 525d56702a5550e7e07345bed05263e073c0727f
   "cell_type": "markdown",
   "metadata": {},
   "source": [
    "### Create an empty pandas Series"
   ]
  },
  {
   "cell_type": "code",
<<<<<<< HEAD
   "execution_count": 5,
   "metadata": {},
   "outputs": [],
   "source": [
    "# your code goes here\n",
    "tmp = pd.Series(dtype = object)"
   ]
  },
  {
=======
   "execution_count": 2,
   "metadata": {},
   "outputs": [],
   "source": [
    "# your code goes here\n"
   ]
  },
  {
   "attachments": {},
>>>>>>> 525d56702a5550e7e07345bed05263e073c0727f
   "cell_type": "markdown",
   "metadata": {},
   "source": [
    "![green-divider](https://user-images.githubusercontent.com/7065401/52071924-c003ad80-2562-11e9-8297-1c6595f8a7ff.png)\n",
    "\n",
    "### Given the X python list convert it to an Y pandas Series"
   ]
  },
  {
   "cell_type": "code",
   "execution_count": 3,
   "metadata": {},
   "outputs": [],
   "source": [
    "# your code goes here\n"
   ]
  },
  {
   "cell_type": "code",
<<<<<<< HEAD
   "execution_count": 6,
   "metadata": {
    "cell_type": "solution"
   },
   "outputs": [],
   "source": [
    "X = ['A','B','C']\n",
    "Y =  pd.Series(X)"
=======
   "execution_count": 4,
   "metadata": {
    "cell_type": "solution"
   },
   "outputs": [
    {
     "name": "stdout",
     "output_type": "stream",
     "text": [
      "['A', 'B', 'C'] <class 'list'>\n",
      "0    A\n",
      "1    B\n",
      "2    C\n",
      "dtype: object <class 'pandas.core.series.Series'>\n"
     ]
    }
   ],
   "source": [
    "X = \n",
    "Y =  # different type"
>>>>>>> 525d56702a5550e7e07345bed05263e073c0727f
   ]
  },
  {
   "cell_type": "code",
<<<<<<< HEAD
   "execution_count": 7,
=======
   "execution_count": 5,
>>>>>>> 525d56702a5550e7e07345bed05263e073c0727f
   "metadata": {},
   "outputs": [],
   "source": [
    "assert isinstance(Y, pd.Series)\n",
    "assert Y.dtype == np.dtype('O')\n",
    "assert Y.shape == (3,)\n",
    "assert Y[0] == 'A'"
   ]
  },
  {
<<<<<<< HEAD
=======
   "attachments": {},
>>>>>>> 525d56702a5550e7e07345bed05263e073c0727f
   "cell_type": "markdown",
   "metadata": {},
   "source": [
    "![green-divider](https://user-images.githubusercontent.com/7065401/52071924-c003ad80-2562-11e9-8297-1c6595f8a7ff.png)\n",
    "\n",
    "### Given the X pandas Series, name it 'My letters'"
   ]
  },
  {
   "cell_type": "code",
<<<<<<< HEAD
   "execution_count": 8,
   "metadata": {},
   "outputs": [],
   "source": [
    "# your code goes here\n",
    "X = pd.Series(name = 'My letters',dtype = object)"
=======
   "execution_count": null,
   "metadata": {},
   "outputs": [],
   "source": [
    "# your code goes here\n"
>>>>>>> 525d56702a5550e7e07345bed05263e073c0727f
   ]
  },
  {
   "cell_type": "code",
<<<<<<< HEAD
   "execution_count": 9,
=======
   "execution_count": 7,
>>>>>>> 525d56702a5550e7e07345bed05263e073c0727f
   "metadata": {},
   "outputs": [],
   "source": [
    "assert X.name == 'My letters'"
   ]
  },
  {
<<<<<<< HEAD
=======
   "attachments": {},
>>>>>>> 525d56702a5550e7e07345bed05263e073c0727f
   "cell_type": "markdown",
   "metadata": {},
   "source": [
    "![green-divider](https://user-images.githubusercontent.com/7065401/52071924-c003ad80-2562-11e9-8297-1c6595f8a7ff.png)\n",
    "\n",
    "### Given the X pandas Series, show its values\n"
   ]
  },
  {
   "cell_type": "code",
<<<<<<< HEAD
   "execution_count": 10,
   "metadata": {},
   "outputs": [
    {
     "data": {
      "text/plain": [
       "Series([], Name: My letters, dtype: object)"
      ]
     },
     "execution_count": 10,
     "metadata": {},
     "output_type": "execute_result"
    }
   ],
   "source": [
    "# your code goes here\n",
    "X"
   ]
  },
  {
=======
   "execution_count": null,
   "metadata": {},
   "outputs": [],
   "source": [
    "# your code goes here\n"
   ]
  },
  {
   "attachments": {},
>>>>>>> 525d56702a5550e7e07345bed05263e073c0727f
   "cell_type": "markdown",
   "metadata": {},
   "source": [
    "![purple-divider](https://user-images.githubusercontent.com/7065401/52071927-c1cd7100-2562-11e9-908a-dde91ba14e59.png)\n",
    "\n",
    "## Series indexation"
   ]
  },
  {
<<<<<<< HEAD
=======
   "attachments": {},
>>>>>>> 525d56702a5550e7e07345bed05263e073c0727f
   "cell_type": "markdown",
   "metadata": {},
   "source": [
    "### Assign index names to the given X pandas Series\n"
   ]
  },
  {
   "cell_type": "code",
<<<<<<< HEAD
   "execution_count": 12,
=======
   "execution_count": 8,
>>>>>>> 525d56702a5550e7e07345bed05263e073c0727f
   "metadata": {
    "cell_type": "solution"
   },
   "outputs": [],
   "source": [
    "X = pd.Series(['A','B','C'])\n",
<<<<<<< HEAD
    "\n",
=======
>>>>>>> 525d56702a5550e7e07345bed05263e073c0727f
    "index_names = ['first', 'second', 'third']"
   ]
  },
  {
   "cell_type": "code",
<<<<<<< HEAD
   "execution_count": 15,
   "metadata": {},
   "outputs": [],
   "source": [
    "# your code goes here\n",
    "X.index = index_names\n",
    "first_element = X['first']"
=======
   "execution_count": null,
   "metadata": {},
   "outputs": [],
   "source": [
    "# your code goes here\n"
>>>>>>> 525d56702a5550e7e07345bed05263e073c0727f
   ]
  },
  {
   "cell_type": "code",
<<<<<<< HEAD
   "execution_count": 16,
=======
   "execution_count": null,
>>>>>>> 525d56702a5550e7e07345bed05263e073c0727f
   "metadata": {
    "cell_type": "solution"
   },
   "outputs": [],
   "source": [
    "assert first_element == 'A'"
   ]
  },
  {
<<<<<<< HEAD
=======
   "attachments": {},
>>>>>>> 525d56702a5550e7e07345bed05263e073c0727f
   "cell_type": "markdown",
   "metadata": {},
   "source": [
    "![green-divider](https://user-images.githubusercontent.com/7065401/52071924-c003ad80-2562-11e9-8297-1c6595f8a7ff.png)\n",
    "\n",
    "### Given the X pandas Series, show all middle elements\n"
   ]
  },
  {
   "cell_type": "code",
   "execution_count": null,
   "metadata": {},
   "outputs": [],
   "source": [
    "# your code goes here\n"
   ]
  },
  {
   "cell_type": "code",
<<<<<<< HEAD
   "execution_count": 17,
=======
   "execution_count": 9,
>>>>>>> 525d56702a5550e7e07345bed05263e073c0727f
   "metadata": {
    "cell_type": "solution"
   },
   "outputs": [],
   "source": [
    "X = pd.Series(['A','B','C','D','E'],\n",
    "              index=['first','second','third','forth','fifth'])\n",
    "\n",
    "middle = X[1:-1] # by position"
   ]
  },
  {
   "cell_type": "code",
<<<<<<< HEAD
   "execution_count": 18,
=======
   "execution_count": 13,
>>>>>>> 525d56702a5550e7e07345bed05263e073c0727f
   "metadata": {},
   "outputs": [],
   "source": [
    "assert (middle == ['B','C','D']).all()"
   ]
  },
  {
<<<<<<< HEAD
=======
   "attachments": {},
>>>>>>> 525d56702a5550e7e07345bed05263e073c0727f
   "cell_type": "markdown",
   "metadata": {},
   "source": [
    "![green-divider](https://user-images.githubusercontent.com/7065401/52071924-c003ad80-2562-11e9-8297-1c6595f8a7ff.png)\n",
    "\n",
    "### Given the X pandas Series, show the elements in reverse position\n"
   ]
  },
  {
   "cell_type": "code",
   "execution_count": null,
   "metadata": {},
   "outputs": [],
   "source": [
    "# your code goes here\n"
   ]
  },
  {
   "cell_type": "code",
<<<<<<< HEAD
   "execution_count": 29,
   "metadata": {
    "cell_type": "solution"
   },
   "outputs": [
    {
     "data": {
      "text/plain": [
       "fifth     E\n",
       "forth     D\n",
       "third     C\n",
       "second    B\n",
       "first     A\n",
       "dtype: object"
      ]
     },
     "execution_count": 29,
     "metadata": {},
     "output_type": "execute_result"
    }
   ],
=======
   "execution_count": 14,
   "metadata": {
    "cell_type": "solution"
   },
   "outputs": [],
>>>>>>> 525d56702a5550e7e07345bed05263e073c0727f
   "source": [
    "X = pd.Series(['A','B','C','D','E'],\n",
    "              index=['first','second','third','forth','fifth'])\n",
    "\n",
<<<<<<< HEAD
    "reverse =  X[4::-1]\n",
    "reverse"
=======
    "reverse =  "
>>>>>>> 525d56702a5550e7e07345bed05263e073c0727f
   ]
  },
  {
   "cell_type": "code",
<<<<<<< HEAD
   "execution_count": 30,
=======
   "execution_count": 15,
>>>>>>> 525d56702a5550e7e07345bed05263e073c0727f
   "metadata": {},
   "outputs": [],
   "source": [
    "assert (reverse == ['E','D','C','B','A']).all()"
   ]
  },
  {
<<<<<<< HEAD
=======
   "attachments": {},
>>>>>>> 525d56702a5550e7e07345bed05263e073c0727f
   "cell_type": "markdown",
   "metadata": {},
   "source": [
    "![purple-divider](https://user-images.githubusercontent.com/7065401/52071927-c1cd7100-2562-11e9-908a-dde91ba14e59.png)\n",
    "\n",
    "## Series manipulation"
   ]
  },
  {
<<<<<<< HEAD
=======
   "attachments": {},
>>>>>>> 525d56702a5550e7e07345bed05263e073c0727f
   "cell_type": "markdown",
   "metadata": {},
   "source": [
    "### Convert the given integer pandas Series to float\n"
   ]
  },
  {
   "cell_type": "code",
   "execution_count": null,
   "metadata": {},
   "outputs": [],
   "source": [
    "# your code goes here\n"
   ]
  },
  {
   "cell_type": "code",
<<<<<<< HEAD
   "execution_count": 31,
=======
   "execution_count": 19,
>>>>>>> 525d56702a5550e7e07345bed05263e073c0727f
   "metadata": {
    "cell_type": "solution"
   },
   "outputs": [],
   "source": [
    "X = pd.Series([1,2,3,4,5],\n",
    "              index=['first','second','third','forth','fifth'])\n",
    "\n",
<<<<<<< HEAD
    "X_float = pd.Series(X,dtype = np.float32)"
=======
    "X_float = "
>>>>>>> 525d56702a5550e7e07345bed05263e073c0727f
   ]
  },
  {
   "cell_type": "code",
<<<<<<< HEAD
   "execution_count": 32,
=======
   "execution_count": 20,
>>>>>>> 525d56702a5550e7e07345bed05263e073c0727f
   "metadata": {},
   "outputs": [],
   "source": [
    "assert X.dtype == np.dtype('int64')\n",
    "assert X_float.dtype == np.float32"
   ]
  },
  {
<<<<<<< HEAD
=======
   "attachments": {},
>>>>>>> 525d56702a5550e7e07345bed05263e073c0727f
   "cell_type": "markdown",
   "metadata": {},
   "source": [
    "![green-divider](https://user-images.githubusercontent.com/7065401/52071924-c003ad80-2562-11e9-8297-1c6595f8a7ff.png)\n",
    "\n",
    "### Order (sort) the given pandas Series\n"
   ]
  },
  {
   "cell_type": "code",
<<<<<<< HEAD
   "execution_count": 33,
   "metadata": {
    "cell_type": "solution"
   },
   "outputs": [],
=======
   "execution_count": 21,
   "metadata": {
    "cell_type": "solution"
   },
   "outputs": [
    {
     "data": {
      "text/plain": [
       "first     1\n",
       "second    2\n",
       "third     3\n",
       "forth     4\n",
       "fifth     5\n",
       "dtype: int64"
      ]
     },
     "execution_count": 21,
     "metadata": {},
     "output_type": "execute_result"
    }
   ],
>>>>>>> 525d56702a5550e7e07345bed05263e073c0727f
   "source": [
    "X = pd.Series([4,2,5,1,3],\n",
    "              index=['forth','second','fifth','first','third'])\n",
    "\n",
<<<<<<< HEAD
    "X = X.sort_values()"
=======
    "X = "
>>>>>>> 525d56702a5550e7e07345bed05263e073c0727f
   ]
  },
  {
   "cell_type": "code",
<<<<<<< HEAD
   "execution_count": 34,
=======
   "execution_count": 22,
>>>>>>> 525d56702a5550e7e07345bed05263e073c0727f
   "metadata": {},
   "outputs": [],
   "source": [
    "assert (X == [1,2,3,4,5]).all()"
   ]
  },
  {
<<<<<<< HEAD
=======
   "attachments": {},
>>>>>>> 525d56702a5550e7e07345bed05263e073c0727f
   "cell_type": "markdown",
   "metadata": {},
   "source": [
    "![green-divider](https://user-images.githubusercontent.com/7065401/52071924-c003ad80-2562-11e9-8297-1c6595f8a7ff.png)\n",
    "\n",
    "### Given the X pandas Series, set the fifth element equal to 10\n"
   ]
  },
  {
   "cell_type": "code",
<<<<<<< HEAD
   "execution_count": 35,
=======
   "execution_count": 23,
>>>>>>> 525d56702a5550e7e07345bed05263e073c0727f
   "metadata": {},
   "outputs": [],
   "source": [
    "# your code goes here\n"
   ]
  },
  {
   "cell_type": "code",
<<<<<<< HEAD
   "execution_count": 40,
=======
   "execution_count": 24,
>>>>>>> 525d56702a5550e7e07345bed05263e073c0727f
   "metadata": {
    "cell_type": "solution"
   },
   "outputs": [
    {
     "data": {
      "text/plain": [
       "A     1\n",
       "B     2\n",
       "C     3\n",
       "D     4\n",
       "E    10\n",
       "dtype: int64"
      ]
     },
<<<<<<< HEAD
     "execution_count": 40,
=======
     "execution_count": 24,
>>>>>>> 525d56702a5550e7e07345bed05263e073c0727f
     "metadata": {},
     "output_type": "execute_result"
    }
   ],
   "source": [
    "X = pd.Series([1,2,3,4,5],\n",
    "              index=['A','B','C','D','E'])\n",
<<<<<<< HEAD
    "X['E'] = 10\n",
=======
>>>>>>> 525d56702a5550e7e07345bed05263e073c0727f
    "X"
   ]
  },
  {
   "cell_type": "code",
<<<<<<< HEAD
   "execution_count": 41,
=======
   "execution_count": null,
>>>>>>> 525d56702a5550e7e07345bed05263e073c0727f
   "metadata": {},
   "outputs": [],
   "source": [
    "assert (X == [1,2,3,4,10]).all()"
   ]
  },
  {
<<<<<<< HEAD
=======
   "attachments": {},
>>>>>>> 525d56702a5550e7e07345bed05263e073c0727f
   "cell_type": "markdown",
   "metadata": {},
   "source": [
    "![green-divider](https://user-images.githubusercontent.com/7065401/52071924-c003ad80-2562-11e9-8297-1c6595f8a7ff.png)\n",
    "\n",
    "### Given the X pandas Series, change all the middle elements to 0\n"
   ]
  },
  {
   "cell_type": "code",
<<<<<<< HEAD
   "execution_count": 42,
=======
   "execution_count": null,
>>>>>>> 525d56702a5550e7e07345bed05263e073c0727f
   "metadata": {
    "cell_type": "solution",
    "scrolled": false
   },
   "outputs": [],
   "source": [
    "X = pd.Series([1,2,3,4,5],\n",
    "              index=['A','B','C','D','E'])\n",
<<<<<<< HEAD
    "X[1:-1] = 0"
=======
    "X"
>>>>>>> 525d56702a5550e7e07345bed05263e073c0727f
   ]
  },
  {
   "cell_type": "code",
<<<<<<< HEAD
   "execution_count": 43,
=======
   "execution_count": null,
>>>>>>> 525d56702a5550e7e07345bed05263e073c0727f
   "metadata": {},
   "outputs": [],
   "source": [
    "assert (X == [1,0,0,0,5]).all()"
   ]
  },
  {
<<<<<<< HEAD
=======
   "attachments": {},
>>>>>>> 525d56702a5550e7e07345bed05263e073c0727f
   "cell_type": "markdown",
   "metadata": {},
   "source": [
    "![green-divider](https://user-images.githubusercontent.com/7065401/52071924-c003ad80-2562-11e9-8297-1c6595f8a7ff.png)\n",
    "\n",
    "### Given the X pandas Series, add 5 to every element\n"
   ]
  },
  {
   "cell_type": "code",
<<<<<<< HEAD
   "execution_count": 44,
=======
   "execution_count": 27,
>>>>>>> 525d56702a5550e7e07345bed05263e073c0727f
   "metadata": {
    "cell_type": "solution"
   },
   "outputs": [],
   "source": [
    "X = pd.Series([1,2,3,4,5])\n",
<<<<<<< HEAD
    "X = X + 5"
=======
    "X = "
>>>>>>> 525d56702a5550e7e07345bed05263e073c0727f
   ]
  },
  {
   "cell_type": "code",
<<<<<<< HEAD
   "execution_count": 45,
=======
   "execution_count": 28,
>>>>>>> 525d56702a5550e7e07345bed05263e073c0727f
   "metadata": {},
   "outputs": [],
   "source": [
    "assert (X == [6,7,8,9,10]).all()"
   ]
  },
  {
<<<<<<< HEAD
=======
   "attachments": {},
>>>>>>> 525d56702a5550e7e07345bed05263e073c0727f
   "cell_type": "markdown",
   "metadata": {},
   "source": [
    "![purple-divider](https://user-images.githubusercontent.com/7065401/52071927-c1cd7100-2562-11e9-908a-dde91ba14e59.png)\n",
    "\n",
    "## Series boolean arrays (also called masks)"
   ]
  },
  {
<<<<<<< HEAD
=======
   "attachments": {},
>>>>>>> 525d56702a5550e7e07345bed05263e073c0727f
   "cell_type": "markdown",
   "metadata": {},
   "source": [
    "### Given the X pandas Series, make a mask showing negative elements\n"
   ]
  },
  {
   "cell_type": "code",
<<<<<<< HEAD
   "execution_count": 53,
=======
   "execution_count": 30,
>>>>>>> 525d56702a5550e7e07345bed05263e073c0727f
   "metadata": {
    "cell_type": "solution"
   },
   "outputs": [
    {
     "data": {
      "text/plain": [
       "0     True\n",
       "1    False\n",
       "2     True\n",
       "3     True\n",
       "4    False\n",
       "5    False\n",
       "6     True\n",
       "7     True\n",
       "8     True\n",
       "9    False\n",
       "dtype: bool"
      ]
     },
<<<<<<< HEAD
     "execution_count": 53,
=======
     "execution_count": 30,
>>>>>>> 525d56702a5550e7e07345bed05263e073c0727f
     "metadata": {},
     "output_type": "execute_result"
    }
   ],
   "source": [
    "X = pd.Series([-1,2,0,-4,5,6,0,0,-9,10])\n",
<<<<<<< HEAD
    "mask = (X <= 0)\n",
=======
>>>>>>> 525d56702a5550e7e07345bed05263e073c0727f
    "mask"
   ]
  },
  {
   "cell_type": "code",
<<<<<<< HEAD
   "execution_count": 54,
=======
   "execution_count": 31,
>>>>>>> 525d56702a5550e7e07345bed05263e073c0727f
   "metadata": {},
   "outputs": [],
   "source": [
    "assert (X[mask] == [-1,0,-4,0,0,-9]).all()"
   ]
  },
  {
<<<<<<< HEAD
=======
   "attachments": {},
>>>>>>> 525d56702a5550e7e07345bed05263e073c0727f
   "cell_type": "markdown",
   "metadata": {},
   "source": [
    "![green-divider](https://user-images.githubusercontent.com/7065401/52071924-c003ad80-2562-11e9-8297-1c6595f8a7ff.png)\n",
    "\n",
    "### Given the X pandas Series, get the negative elements\n"
   ]
  },
  {
   "cell_type": "code",
<<<<<<< HEAD
   "execution_count": 57,
=======
   "execution_count": 32,
>>>>>>> 525d56702a5550e7e07345bed05263e073c0727f
   "metadata": {
    "cell_type": "solution"
   },
   "outputs": [],
   "source": [
    "X = pd.Series([-1,2,0,-4,5,6,0,0,-9,10])\n",
<<<<<<< HEAD
    "neg = X[(X <= 0)]"
=======
    "neg = "
>>>>>>> 525d56702a5550e7e07345bed05263e073c0727f
   ]
  },
  {
   "cell_type": "code",
<<<<<<< HEAD
   "execution_count": 58,
=======
   "execution_count": 33,
>>>>>>> 525d56702a5550e7e07345bed05263e073c0727f
   "metadata": {},
   "outputs": [],
   "source": [
    "assert (neg == [-1,0,-4,0,0,-9]).all()"
   ]
  },
  {
<<<<<<< HEAD
=======
   "attachments": {},
>>>>>>> 525d56702a5550e7e07345bed05263e073c0727f
   "cell_type": "markdown",
   "metadata": {},
   "source": [
    "![green-divider](https://user-images.githubusercontent.com/7065401/52071924-c003ad80-2562-11e9-8297-1c6595f8a7ff.png)\n",
    "\n",
    "### Given the X pandas Series, get numbers higher than 5\n"
   ]
  },
  {
   "cell_type": "code",
<<<<<<< HEAD
   "execution_count": 59,
=======
   "execution_count": 38,
>>>>>>> 525d56702a5550e7e07345bed05263e073c0727f
   "metadata": {
    "cell_type": "solution"
   },
   "outputs": [],
   "source": [
    "X = pd.Series([-1,2,0,-4,5,6,0,0,-9,10])\n",
<<<<<<< HEAD
    "val = X[X > 5]"
=======
    "val ="
>>>>>>> 525d56702a5550e7e07345bed05263e073c0727f
   ]
  },
  {
   "cell_type": "code",
<<<<<<< HEAD
   "execution_count": 60,
=======
   "execution_count": 40,
>>>>>>> 525d56702a5550e7e07345bed05263e073c0727f
   "metadata": {},
   "outputs": [],
   "source": [
    "assert (val == [6,10]).all()"
   ]
  },
  {
<<<<<<< HEAD
=======
   "attachments": {},
>>>>>>> 525d56702a5550e7e07345bed05263e073c0727f
   "cell_type": "markdown",
   "metadata": {},
   "source": [
    "![green-divider](https://user-images.githubusercontent.com/7065401/52071924-c003ad80-2562-11e9-8297-1c6595f8a7ff.png)\n",
    "\n",
    "### Given the X pandas Series, get numbers higher than the elements mean"
   ]
  },
  {
   "cell_type": "code",
<<<<<<< HEAD
   "execution_count": 61,
=======
   "execution_count": 41,
>>>>>>> 525d56702a5550e7e07345bed05263e073c0727f
   "metadata": {
    "cell_type": "solution"
   },
   "outputs": [],
   "source": [
    "X = pd.Series([-1,2,0,-4,5,6,0,0,-9,10])\n",
    "mask = X > X.mean()\n",
    "higher = X[mask]"
   ]
  },
  {
   "cell_type": "code",
<<<<<<< HEAD
   "execution_count": 62,
=======
   "execution_count": 43,
>>>>>>> 525d56702a5550e7e07345bed05263e073c0727f
   "metadata": {},
   "outputs": [],
   "source": [
    "assert (higher == [2,5,6,10]).all()"
   ]
  },
  {
<<<<<<< HEAD
=======
   "attachments": {},
>>>>>>> 525d56702a5550e7e07345bed05263e073c0727f
   "cell_type": "markdown",
   "metadata": {},
   "source": [
    "![green-divider](https://user-images.githubusercontent.com/7065401/52071924-c003ad80-2562-11e9-8297-1c6595f8a7ff.png)\n",
    "\n",
    "### Given the X pandas Series, get numbers equal to 2 or 10\n"
   ]
  },
  {
   "cell_type": "code",
<<<<<<< HEAD
   "execution_count": 63,
=======
   "execution_count": 45,
>>>>>>> 525d56702a5550e7e07345bed05263e073c0727f
   "metadata": {
    "cell_type": "solution",
    "scrolled": true
   },
   "outputs": [],
   "source": [
    "X = pd.Series([-1,2,0,-4,5,6,0,0,-9,10])\n",
<<<<<<< HEAD
    "equal = X[(X == 2) | (X == 10)]"
=======
    "equal = "
>>>>>>> 525d56702a5550e7e07345bed05263e073c0727f
   ]
  },
  {
   "cell_type": "code",
<<<<<<< HEAD
   "execution_count": 64,
=======
   "execution_count": 46,
>>>>>>> 525d56702a5550e7e07345bed05263e073c0727f
   "metadata": {},
   "outputs": [],
   "source": [
    "assert (equal == [2,10]).all()"
   ]
  },
  {
<<<<<<< HEAD
=======
   "attachments": {},
>>>>>>> 525d56702a5550e7e07345bed05263e073c0727f
   "cell_type": "markdown",
   "metadata": {},
   "source": [
    "![purple-divider](https://user-images.githubusercontent.com/7065401/52071927-c1cd7100-2562-11e9-908a-dde91ba14e59.png)\n",
    "\n",
    "## Logic functions"
   ]
  },
  {
<<<<<<< HEAD
=======
   "attachments": {},
>>>>>>> 525d56702a5550e7e07345bed05263e073c0727f
   "cell_type": "markdown",
   "metadata": {},
   "source": [
    "### Given the X pandas Series, return True if none of its elements is zero"
   ]
  },
  {
   "cell_type": "code",
<<<<<<< HEAD
   "execution_count": 68,
   "metadata": {
    "cell_type": "solution"
   },
   "outputs": [
    {
     "data": {
      "text/plain": [
       "False"
      ]
     },
     "execution_count": 68,
     "metadata": {},
     "output_type": "execute_result"
    }
   ],
   "source": [
    "X = pd.Series([-1,2,0,-4,5,6,0,0,-9,10])\n",
    "all_zero = (X == 0).all()\n",
    "all_zero"
=======
   "execution_count": 47,
   "metadata": {
    "cell_type": "solution"
   },
   "outputs": [],
   "source": [
    "X = pd.Series([-1,2,0,-4,5,6,0,0,-9,10])\n",
    "all_zero = "
>>>>>>> 525d56702a5550e7e07345bed05263e073c0727f
   ]
  },
  {
   "cell_type": "code",
<<<<<<< HEAD
   "execution_count": 69,
=======
   "execution_count": 48,
>>>>>>> 525d56702a5550e7e07345bed05263e073c0727f
   "metadata": {},
   "outputs": [],
   "source": [
    "assert not all_zero"
   ]
  },
  {
<<<<<<< HEAD
=======
   "attachments": {},
>>>>>>> 525d56702a5550e7e07345bed05263e073c0727f
   "cell_type": "markdown",
   "metadata": {},
   "source": [
    "![green-divider](https://user-images.githubusercontent.com/7065401/52071924-c003ad80-2562-11e9-8297-1c6595f8a7ff.png)\n",
    "\n",
    "### Given the X pandas Series, return True if any of its elements is zero\n"
   ]
  },
  {
   "cell_type": "code",
<<<<<<< HEAD
   "execution_count": 70,
=======
   "execution_count": 49,
>>>>>>> 525d56702a5550e7e07345bed05263e073c0727f
   "metadata": {
    "cell_type": "solution"
   },
   "outputs": [],
   "source": [
    "X = pd.Series([-1,2,0,-4,5,6,0,0,-9,10])\n",
<<<<<<< HEAD
    "any_zero = (X == 0).any()"
=======
    "any_zero = "
>>>>>>> 525d56702a5550e7e07345bed05263e073c0727f
   ]
  },
  {
   "cell_type": "code",
<<<<<<< HEAD
   "execution_count": 71,
=======
   "execution_count": 50,
>>>>>>> 525d56702a5550e7e07345bed05263e073c0727f
   "metadata": {},
   "outputs": [],
   "source": [
    "assert any_zero"
   ]
  },
  {
<<<<<<< HEAD
=======
   "attachments": {},
>>>>>>> 525d56702a5550e7e07345bed05263e073c0727f
   "cell_type": "markdown",
   "metadata": {},
   "source": [
    "![purple-divider](https://user-images.githubusercontent.com/7065401/52071927-c1cd7100-2562-11e9-908a-dde91ba14e59.png)\n",
    "\n",
    "## Summary statistics"
   ]
  },
  {
<<<<<<< HEAD
=======
   "attachments": {},
>>>>>>> 525d56702a5550e7e07345bed05263e073c0727f
   "cell_type": "markdown",
   "metadata": {},
   "source": [
    "### Given the X pandas Series, show the sum of its elements\n"
   ]
  },
  {
   "cell_type": "code",
<<<<<<< HEAD
   "execution_count": 72,
=======
   "execution_count": 51,
>>>>>>> 525d56702a5550e7e07345bed05263e073c0727f
   "metadata": {
    "cell_type": "solution"
   },
   "outputs": [],
   "source": [
    "X = pd.Series([3,5,6,7,2,3,4,9,4])\n",
    "sum = X.sum()"
   ]
  },
  {
   "cell_type": "code",
<<<<<<< HEAD
   "execution_count": 73,
=======
   "execution_count": 53,
>>>>>>> 525d56702a5550e7e07345bed05263e073c0727f
   "metadata": {},
   "outputs": [],
   "source": [
    "assert sum == 43"
   ]
  },
  {
<<<<<<< HEAD
=======
   "attachments": {},
>>>>>>> 525d56702a5550e7e07345bed05263e073c0727f
   "cell_type": "markdown",
   "metadata": {},
   "source": [
    "![green-divider](https://user-images.githubusercontent.com/7065401/52071924-c003ad80-2562-11e9-8297-1c6595f8a7ff.png)\n",
    "\n",
    "### Given the X pandas Series, show the mean value of its elements"
   ]
  },
  {
   "cell_type": "code",
<<<<<<< HEAD
   "execution_count": 74,
=======
   "execution_count": 54,
>>>>>>> 525d56702a5550e7e07345bed05263e073c0727f
   "metadata": {
    "cell_type": "solution"
   },
   "outputs": [],
   "source": [
    "X = pd.Series([1,2,0,4,5,6,0,0,9,10])\n",
<<<<<<< HEAD
    "mean = X.mean()"
=======
    "mean = "
>>>>>>> 525d56702a5550e7e07345bed05263e073c0727f
   ]
  },
  {
   "cell_type": "code",
<<<<<<< HEAD
   "execution_count": 75,
=======
   "execution_count": 56,
>>>>>>> 525d56702a5550e7e07345bed05263e073c0727f
   "metadata": {},
   "outputs": [],
   "source": [
    "assert mean == 3.7"
   ]
  },
  {
<<<<<<< HEAD
=======
   "attachments": {},
>>>>>>> 525d56702a5550e7e07345bed05263e073c0727f
   "cell_type": "markdown",
   "metadata": {},
   "source": [
    "![green-divider](https://user-images.githubusercontent.com/7065401/52071924-c003ad80-2562-11e9-8297-1c6595f8a7ff.png)\n",
    "\n",
    "### Given the X pandas Series, show the max value of its elements"
   ]
  },
  {
   "cell_type": "code",
<<<<<<< HEAD
   "execution_count": 76,
=======
   "execution_count": 58,
>>>>>>> 525d56702a5550e7e07345bed05263e073c0727f
   "metadata": {
    "cell_type": "solution"
   },
   "outputs": [],
   "source": [
    "X = pd.Series([1,2,0,4,5,6,0,0,9,10])\n",
<<<<<<< HEAD
    "max = X.max()"
=======
    "max = "
>>>>>>> 525d56702a5550e7e07345bed05263e073c0727f
   ]
  },
  {
   "cell_type": "code",
<<<<<<< HEAD
   "execution_count": 77,
   "metadata": {},
   "outputs": [],
=======
   "execution_count": 59,
   "metadata": {},
   "outputs": [
    {
     "data": {
      "text/plain": [
       "10"
      ]
     },
     "execution_count": 59,
     "metadata": {},
     "output_type": "execute_result"
    }
   ],
>>>>>>> 525d56702a5550e7e07345bed05263e073c0727f
   "source": [
    "assert max == 10"
   ]
  },
  {
<<<<<<< HEAD
=======
   "attachments": {},
>>>>>>> 525d56702a5550e7e07345bed05263e073c0727f
   "cell_type": "markdown",
   "metadata": {},
   "source": [
    "![purple-divider](https://user-images.githubusercontent.com/7065401/52071927-c1cd7100-2562-11e9-908a-dde91ba14e59.png)"
   ]
  }
 ],
 "metadata": {
  "kernelspec": {
<<<<<<< HEAD
   "display_name": "Python 3 (ipykernel)",
=======
   "display_name": "Python 3",
>>>>>>> 525d56702a5550e7e07345bed05263e073c0727f
   "language": "python",
   "name": "python3"
  },
  "language_info": {
   "codemirror_mode": {
    "name": "ipython",
    "version": 3
   },
   "file_extension": ".py",
   "mimetype": "text/x-python",
   "name": "python",
   "nbconvert_exporter": "python",
   "pygments_lexer": "ipython3",
<<<<<<< HEAD
   "version": "3.10.9"
=======
   "version": "3.8.8"
>>>>>>> 525d56702a5550e7e07345bed05263e073c0727f
  }
 },
 "nbformat": 4,
 "nbformat_minor": 2
}
